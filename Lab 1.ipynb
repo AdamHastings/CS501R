{
 "cells": [
  {
   "cell_type": "markdown",
   "metadata": {},
   "source": [
    "# Part 1: Random Image Generation"
   ]
  },
  {
   "cell_type": "code",
   "execution_count": 3,
   "metadata": {},
   "outputs": [
    {
     "data": {
      "image/png": "[encoded data removed]",
      "text/plain": [
       "<IPython.core.display.Image object>"
      ]
     },
     "metadata": {},
     "output_type": "display_data"
    }
   ],
   "source": [
    "import cairo\n",
    "import numpy\n",
    " \n",
    "# A simple function to display an image in an ipython notebook\n",
    "def nbimage( data ):\n",
    "    from IPython.display import display, Image\n",
    "    from PIL.Image import fromarray\n",
    "    from StringIO import StringIO\n",
    " \n",
    "    s = StringIO()\n",
    "    fromarray( data ).save( s, 'png' )\n",
    "    display( Image( s.getvalue() ) )\n",
    " \n",
    "WIDTH = 512\n",
    "HEIGHT = 288\n",
    " \n",
    "# this is a numpy buffer to hold the image data\n",
    "data = numpy.zeros( (HEIGHT,WIDTH,4), dtype=numpy.uint8 )\n",
    " \n",
    "# this creates a cairo context based on the numpy buffer\n",
    "ims = cairo.ImageSurface.create_for_data( data, cairo.FORMAT_ARGB32, WIDTH, HEIGHT )\n",
    "cr = cairo.Context( ims )\n",
    " \n",
    "# draw a blue line\n",
    "cr.set_source_rgba( 1.0, 0.0, 0.0, 1.0 )\n",
    "cr.set_line_width( 5.0 )\n",
    "cr.move_to( 0.0, 0.0 )\n",
    "cr.line_to( 100.0, 100.0 )\n",
    "cr.stroke()\n",
    " \n",
    "# display the image\n",
    "nbimage( data )"
   ]
  },
  {
   "cell_type": "markdown",
   "metadata": {},
   "source": [
    "# Part 2: TensorFlow "
   ]
  },
  {
   "cell_type": "markdown",
   "metadata": {},
   "source": [
    "![title](tensorflow.png)"
   ]
  }
 ],
 "metadata": {
  "kernelspec": {
   "display_name": "Python 2",
   "language": "python",
   "name": "python2"
  },
  "language_info": {
   "codemirror_mode": {
    "name": "ipython",
    "version": 2
   },
   "file_extension": ".py",
   "mimetype": "text/x-python",
   "name": "python",
   "nbconvert_exporter": "python",
   "pygments_lexer": "ipython2",
   "version": "2.7.13"
  }
 },
 "nbformat": 4,
 "nbformat_minor": 2
}
