{
 "cells": [
  {
   "cell_type": "markdown",
   "metadata": {},
   "source": [
    "# Lab 6 Code"
   ]
  },
  {
   "cell_type": "code",
   "execution_count": 3,
   "metadata": {},
   "outputs": [
    {
     "name": "stderr",
     "output_type": "stream",
     "text": [
      "100%|██████████| 220/220 [00:50<00:00,  4.35it/s]\n"
     ]
    },
    {
     "name": "stdout",
     "output_type": "stream",
     "text": [
      "hello, world\n"
     ]
    }
   ],
   "source": [
    "import tensorflow as tf\n",
    "import numpy as np\n",
    "import os\n",
    "from skimage import io, transform\n",
    "from tqdm import trange, tqdm\n",
    "\n",
    "tf.reset_default_graph()\n",
    "\n",
    "def conv( x, filter_size=3, stride=2, num_filters=64, is_output=False, name=\"conv\" ):\n",
    "    channels = x.get_shape().as_list()[3];\n",
    "    with tf.variable_scope(name) as scope:\n",
    "        # Create a W filter variable wit the proper size\n",
    "        W = tf.get_variable(\"W\", None, dtype=tf.float32, initializer=tf.random_normal([filter_size, filter_size, channels, num_filters])*0.001)\n",
    "        W = tf.Print(W, [W])\n",
    "        result = W + 1\n",
    "        # Create a B bias varaible with the proper size\n",
    "        B = tf.get_variable(\"B\", None, dtype=tf.float32, initializer=tf.random_normal([num_filters])*0.001)\n",
    "        # Convolve x with W by calling the tf.nn.conv2d function\n",
    "        conv2d = tf.nn.conv2d(input=x,filter=W,strides=[1, stride, stride, 1],padding=\"SAME\")\n",
    "        # Add the bias\n",
    "        biased = tf.nn.bias_add(conv2d, B)\n",
    "        # If is_output is False\n",
    "        if (is_output == False):\n",
    "            # Call the tf.nn.relu function\n",
    "            biased = tf.nn.relu(biased)\n",
    "        # Return the final op\n",
    "        return biased\n",
    "\n",
    "# with tf.name_scope( \"loss_function\" ) as scope:\n",
    "#     cross_entropy = tf.nn.sparse_softmax_cross_entropy_with_logits(labels=current_label, logits=my_logits)\n",
    "\n",
    "# train_step = tf.train.AdamOptimizer( 0.00001 ).minimize( cross_entropy )\n",
    "\n",
    "\n",
    "init = tf.global_variables_initializer() \n",
    "sess = tf.Session()\n",
    "sess.run( init )\n",
    "\n",
    "# Get data\n",
    "files = os.listdir('small_cancer_data/inputs')\n",
    "trd, trl, tstd, tstl = [], [], [], []\n",
    "for f in tqdm(files):\n",
    "    if 'train' in f:\n",
    "        trd.append(transform.resize(io.imread('small_cancer_data/inputs/' + f), (512,512,3), mode='constant'))\n",
    "        trl.append(transform.resize(io.imread('small_cancer_data/outputs/' + f), (512,512,3), mode='constant'))\n",
    "    else:\n",
    "        tstd.append(transform.resize(io.imread('small_cancer_data/inputs/' + f), (512,512,3), mode='constant'))\n",
    "        tstl.append(transform.resize(io.imread('small_cancer_data/outputs/' + f), (512,512,3), mode='constant'))\n",
    "\n",
    "# whiten the data\n",
    "trd = (trd - np.mean(trd, axis=0)) / np.std(trd, axis=0)\n",
    "tstd = (tstd - np.mean(tstd, axis=0)) / np.std(tstd, axis=0)\n",
    "\n",
    "print \"hello, world\"\n",
    "\n",
    "# Start with a 512x512x3 -> 512x512X2\n",
    "# throw this into xent\n",
    "# Output x2 layer represents probabilities of a pixel being cancerous/non-cancerous"
   ]
  },
  {
   "cell_type": "markdown",
   "metadata": {},
   "source": [
    "# Analysis\n",
    "\n",
    "Put analysis here:"
   ]
  }
 ],
 "metadata": {
  "kernelspec": {
   "display_name": "Python 2",
   "language": "python",
   "name": "python2"
  },
  "language_info": {
   "codemirror_mode": {
    "name": "ipython",
    "version": 2
   },
   "file_extension": ".py",
   "mimetype": "text/x-python",
   "name": "python",
   "nbconvert_exporter": "python",
   "pygments_lexer": "ipython2",
   "version": "2.7.13"
  }
 },
 "nbformat": 4,
 "nbformat_minor": 2
}
