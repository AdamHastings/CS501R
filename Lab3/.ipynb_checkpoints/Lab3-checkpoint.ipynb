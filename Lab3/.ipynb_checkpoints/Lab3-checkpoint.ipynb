{
 "cells": [
  {
   "cell_type": "code",
   "execution_count": 22,
   "metadata": {},
   "outputs": [
    {
     "ename": "SyntaxError",
     "evalue": "invalid syntax (<ipython-input-22-ff9003839389>, line 41)",
     "output_type": "error",
     "traceback": [
      "\u001b[0;36m  File \u001b[0;32m\"<ipython-input-22-ff9003839389>\"\u001b[0;36m, line \u001b[0;32m41\u001b[0m\n\u001b[0;31m    L_i =\u001b[0m\n\u001b[0m          ^\u001b[0m\n\u001b[0;31mSyntaxError\u001b[0m\u001b[0;31m:\u001b[0m invalid syntax\n"
     ]
    }
   ],
   "source": [
    "import pandas as pd\n",
    "import numpy as np\n",
    "from matplotlib import pyplot as plt\n",
    "from numpy import array, dot, random\n",
    "from random import choice\n",
    "#from __future__ import braces\n",
    "\n",
    "features = data['data']\n",
    "labels = data['labels']\n",
    "labels = np.atleast_2d( labels ).T\n",
    "\n",
    "N = 1000\n",
    "D = 10\n",
    " \n",
    "# only keep N items\n",
    "features = features[ 0:N, : ] \n",
    "labels = labels[ 0:N, : ]\n",
    " \n",
    "# project down into a D-dimensional space\n",
    "features = np.dot( features, np.random.randn( 3072, D) )\n",
    " \n",
    "# whiten our data - zero mean and unit standard deviation\n",
    "features = (features - np.mean(features, axis=0)) / np.std(features, axis=0)\n",
    "\n",
    "print features.shape\n",
    "print features\n",
    "\n",
    "def unpickle( file ):\n",
    "    import cPickle\n",
    "    fo = open(file, 'rb')\n",
    "    dict = cPickle.load(fo)\n",
    "    fo.close()\n",
    "    return dict\n",
    "\n",
    "def numerical_gradient():\n",
    "    x = 6;\n",
    "    \n",
    "def loss_function(W):\n",
    "    x=9;\n",
    "    # Calculate each L_i\n",
    "    L_i = \n",
    "    L_vec = -1.0 * np.log( np.exp(W * features) / np.sum(np.exp(W * features));\n",
    "    # Return average of each L_i\n",
    "    # foreach X in featues\n",
    "    #   L_i = \n",
    "    Loss = np.mean(L_vec);\n",
    "    return Loss\n",
    "    \n",
    " \n",
    "data = unpickle( 'cifar-10-batches-py/data_batch_1' )\n",
    " \n",
    "\n",
    "\n",
    "#print labels\n",
    "#print labels.shape\n",
    "\n",
    "\n",
    "# Weight matrix\n",
    "W = np.random.rand(D, D);\n",
    "\n",
    "step_size = 0.1\n",
    "NUM_EPOCHS = 1000\n",
    "for i in range(0,NUM_EPOCHS):\n",
    "    loss_function_value, grad = numerical_gradient( loss_function(W) )\n",
    "    W = W - step_size * grad"
   ]
  },
  {
   "cell_type": "code",
   "execution_count": null,
   "metadata": {
    "collapsed": true
   },
   "outputs": [],
   "source": []
  }
 ],
 "metadata": {
  "kernelspec": {
   "display_name": "Python 2",
   "language": "python",
   "name": "python2"
  },
  "language_info": {
   "codemirror_mode": {
    "name": "ipython",
    "version": 2
   },
   "file_extension": ".py",
   "mimetype": "text/x-python",
   "name": "python",
   "nbconvert_exporter": "python",
   "pygments_lexer": "ipython2",
   "version": "2.7.13"
  }
 },
 "nbformat": 4,
 "nbformat_minor": 2
}
