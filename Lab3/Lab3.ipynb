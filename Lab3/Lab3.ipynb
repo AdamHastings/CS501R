{
 "cells": [
  {
   "cell_type": "code",
   "execution_count": 1,
   "metadata": {},
   "outputs": [
    {
     "data": {
      "image/png": "[encoded data removed]",
      "text/plain": [
       "<matplotlib.figure.Figure at 0x7f6a91058b50>"
      ]
     },
     "metadata": {},
     "output_type": "display_data"
    },
    {
     "data": {
      "image/png": "[encoded data removed]",
      "text/plain": [
       "<matplotlib.figure.Figure at 0x7f6a91064110>"
      ]
     },
     "metadata": {},
     "output_type": "display_data"
    }
   ],
   "source": [
    "import pandas as pd\n",
    "import numpy as np\n",
    "from matplotlib import pyplot as plt\n",
    "from numpy import array, dot, random\n",
    "from random import choice\n",
    "#from __future__ import braces\n",
    "\n",
    "\n",
    "def unpickle( file ):\n",
    "    import cPickle\n",
    "    fo = open(file, 'rb')\n",
    "    dict = cPickle.load(fo)\n",
    "    fo.close()\n",
    "    return dict\n",
    "\n",
    "data = unpickle( 'cifar-10-batches-py/data_batch_1' )\n",
    "\n",
    "features = data['data']\n",
    "labels = data['labels']\n",
    "labels = np.atleast_2d( labels ).T\n",
    "\n",
    "N = 1000\n",
    "D = 10\n",
    " \n",
    "# only keep N items\n",
    "features = features[ 0:N, : ] \n",
    "labels = labels[ 0:N, : ]\n",
    " \n",
    "# project down into a D-dimensional space\n",
    "features = np.dot( features, np.random.randn( 3072, D) )\n",
    " \n",
    "# whiten our data - zero mean and unit standard deviation\n",
    "features = (features - np.mean(features, axis=0)) / np.std(features, axis=0)\n",
    "\n",
    "# Compute accuracy as correct classifications / total instances\n",
    "def get_accuracy(W):\n",
    "    score_matrix = score_function()\n",
    "    correct_cnt = 0\n",
    "    for i in range(0,N):\n",
    "        if (np.argmax(score_matrix[:,i]) == labels[i]):\n",
    "            correct_cnt += 1  \n",
    "    accuracy = (1.0 * correct_cnt) / N\n",
    "    return accuracy\n",
    "\n",
    "# Compute the numerical gradient\n",
    "def numerical_gradient(Loss, W):\n",
    "    delta = 0.000001\n",
    "    gradient = np.zeros((D,D))\n",
    "    for i in range(0,W.shape[0]):\n",
    "        for j in range(0,W.shape[1]):\n",
    "            W[i,j] += delta      # Add in delta to W matrix\n",
    "            delta_loss = loss_function(W)\n",
    "            W[i,j] -= delta      # Subtract it back out to get original W matrix\n",
    "            df_dx = (delta_loss - Loss)/delta  # Compute derivative\n",
    "            gradient[i,j] = df_dx\n",
    "    return Loss, gradient\n",
    "    \n",
    "# Vectorized loss function\n",
    "def loss_function(W):\n",
    "    # Get score matrix (10x1000)\n",
    "    score_matrix = score_function()\n",
    "    \n",
    "    # Compute exp(score_matrix[i,j]) for each i,j\n",
    "    exp_score_matrix = np.exp(score_matrix)\n",
    "\n",
    "    # Normalize each column to sum to 1\n",
    "    normalized_score_matrix = exp_score_matrix / exp_score_matrix.sum(axis=0)[None,:]\n",
    "\n",
    "    # NumPy array from 0 to 999. To be used to index into normalized_score_matrix\n",
    "    indices = np.arange(N)\n",
    "    \n",
    "    # Get probability of the entries in each column that correspond to the actual label\n",
    "    L_vec = normalized_score_matrix[labels.T, indices]\n",
    "\n",
    "    # Take the negative log to\n",
    "    L_vec_neg_log = -1.0 * np.log(L_vec.T)\n",
    "    \n",
    "    # Loss is mean of each \n",
    "    Loss = np.mean(L_vec_neg_log)\n",
    "    return Loss\n",
    "\n",
    "def score_function():\n",
    "    score_matrix = W.dot(features.T)\n",
    "    return score_matrix\n",
    "    \n",
    "\n",
    "# Weight matrix\n",
    "W = np.random.rand(D, D);\n",
    "\n",
    "loss_over_time = np.zeros(N)\n",
    "accuracy_over_time = np.zeros(N)\n",
    "\n",
    "step_size = 0.1\n",
    "NUM_EPOCHS = 1000\n",
    "for i in range(0,NUM_EPOCHS):\n",
    "    loss_function_value, grad = numerical_gradient( loss_function(W), W )\n",
    "    accuracy = get_accuracy(W)\n",
    "    # print str(i) + \": \" + str(loss_function_value) + \" -- \" + str(accuracy) # Debug print\n",
    "    loss_over_time[i] = loss_function_value\n",
    "    accuracy_over_time[i] = accuracy\n",
    "    W = W - step_size * grad\n",
    "    \n",
    "# Plot the cost\n",
    "plt.figure(1)\n",
    "plt.plot(loss_over_time)\n",
    "plt.xlabel(\"Epochs\")\n",
    "plt.ylabel(\"Cost function (softmax)\")\n",
    "\n",
    "# Plot the accuracy\n",
    "plt.figure(2)\n",
    "plt.plot(accuracy_over_time)\n",
    "plt.xlabel(\"Epochs\")\n",
    "plt.ylabel(\"Classification accuracy (%)\")\n",
    "\n",
    "# Show both plots\n",
    "plt.show()"
   ]
  },
  {
   "cell_type": "code",
   "execution_count": null,
   "metadata": {
    "collapsed": true
   },
   "outputs": [],
   "source": []
  }
 ],
 "metadata": {
  "kernelspec": {
   "display_name": "Python 2",
   "language": "python",
   "name": "python2"
  },
  "language_info": {
   "codemirror_mode": {
    "name": "ipython",
    "version": 2
   },
   "file_extension": ".py",
   "mimetype": "text/x-python",
   "name": "python",
   "nbconvert_exporter": "python",
   "pygments_lexer": "ipython2",
   "version": "2.7.13"
  }
 },
 "nbformat": 4,
 "nbformat_minor": 2
}
