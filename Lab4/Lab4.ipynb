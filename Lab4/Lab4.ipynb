{
 "cells": [
  {
   "cell_type": "markdown",
   "metadata": {},
   "source": [
    "# Task 1"
   ]
  },
  {
   "cell_type": "code",
   "execution_count": 8,
   "metadata": {},
   "outputs": [
    {
     "data": {
      "image/png": "[encoded data removed]",
      "text/plain": [
       "<matplotlib.figure.Figure at 0x7fe885785e50>"
      ]
     },
     "metadata": {},
     "output_type": "display_data"
    }
   ],
   "source": [
    "import tensorflow as tf\n",
    "import numpy as np\n",
    "import matplotlib.pyplot as plt\n",
    "\n",
    "tf.reset_default_graph()\n",
    "\n",
    "\n",
    "slope = tf.constant(-6.7)\n",
    "y_int = tf.constant(2.0)\n",
    "\n",
    "x_hat_vec = tf.placeholder(tf.float32, None)\n",
    "noise_vec = tf.placeholder(tf.float32, None)\n",
    "\n",
    "\n",
    "with tf.name_scope(\"first_layer\") as scope:\n",
    "    x_hat_times_slope = x_hat_vec * slope\n",
    "    triple_sum = x_hat_times_slope + y_int + noise_vec\n",
    "    \n",
    "    \n",
    "\n",
    "x_hat_vec_in = np.random.uniform(-10, 10, 100)\n",
    "noise_vec_in = np.random.uniform(-1, 1, 100)\n",
    "\n",
    "\n",
    " \n",
    "init = tf.global_variables_initializer() \n",
    "sess = tf.Session()\n",
    "sess.run( init )\n",
    "writer = tf.summary.FileWriter(\"path_to_folder\", sess.graph)\n",
    "\n",
    "\n",
    "tf.summary.scalar('triple_sum', triple_sum)\n",
    "\n",
    "result_vec = sess.run([triple_sum], feed_dict={x_hat_vec: x_hat_vec_in, noise_vec: noise_vec_in})\n",
    "writer.close()\n",
    "\n",
    "plt.scatter(x_hat_vec_in, result_vec)\n",
    "txt = '''Noisy Line (Task 1)'''\n",
    "plt.title(txt)\n",
    "plt.xlabel(\"x_hat\")\n",
    "plt.ylabel(\"f(x_hat)\")\n",
    "plt.show()"
   ]
  },
  {
   "cell_type": "markdown",
   "metadata": {},
   "source": [
    "# Task 2"
   ]
  },
  {
   "cell_type": "code",
   "execution_count": 14,
   "metadata": {},
   "outputs": [],
   "source": [
    "import tensorflow as tf\n",
    "import numpy as np\n",
    "import matplotlib.pyplot as plt\n",
    "\n",
    "tf.reset_default_graph()\n",
    "\n",
    "\n",
    "slope = tf.constant(-6.7)\n",
    "y_int = tf.constant(2.0)\n",
    "\n",
    "x_hat = tf.placeholder(tf.float32, None)\n",
    "noise_hat = tf.placeholder(tf.float32, None)\n",
    "target = tf.placeholder(tf.float32, None)\n",
    "\n",
    "\n",
    "with tf.name_scope(\"noisy_line\") as scope:\n",
    "    x_hat_times_slope = x_hat * slope\n",
    "    triple_sum = x_hat_times_slope + y_int + noise_hat\n",
    "\n",
    "    \n",
    "\n",
    "with tf.name_scope(\"regression\") as scope:\n",
    "    learning_rate = tf.constant(0.005)\n",
    "    m = tf.Variable(0.1)\n",
    "    b = tf.Variable(0.1)\n",
    "\n",
    "\n",
    " \n",
    "init = tf.global_variables_initializer() \n",
    "sess = tf.Session()\n",
    "sess.run( init )\n",
    "writer = tf.summary.FileWriter(\"path_to_folder\", sess.graph)\n",
    "\n",
    "\n",
    "tf.summary.scalar('triple_sum', triple_sum)\n",
    "\n",
    "for i in range(100):\n",
    "    x_hat_in = np.random.uniform(-10, 10)\n",
    "    noise_hat_in = np.random.uniform(-1, 1)\n",
    "    target = sess.run([triple_sum], feed_dict={x_hat: x_hat_in, noise_hat: noise_hat_in})\n",
    "    # print result # This seems to work so far\n",
    "    \n",
    "writer.close()\n",
    "\n"
   ]
  },
  {
   "cell_type": "markdown",
   "metadata": {},
   "source": [
    "# Task 3"
   ]
  },
  {
   "cell_type": "code",
   "execution_count": null,
   "metadata": {
    "collapsed": true
   },
   "outputs": [],
   "source": []
  }
 ],
 "metadata": {
  "kernelspec": {
   "display_name": "Python 2",
   "language": "python",
   "name": "python2"
  },
  "language_info": {
   "codemirror_mode": {
    "name": "ipython",
    "version": 2
   },
   "file_extension": ".py",
   "mimetype": "text/x-python",
   "name": "python",
   "nbconvert_exporter": "python",
   "pygments_lexer": "ipython2",
   "version": "2.7.13"
  }
 },
 "nbformat": 4,
 "nbformat_minor": 2
}
