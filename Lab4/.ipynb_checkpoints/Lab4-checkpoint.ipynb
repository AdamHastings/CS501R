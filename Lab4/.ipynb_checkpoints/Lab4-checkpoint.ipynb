{
 "cells": [
  {
   "cell_type": "markdown",
   "metadata": {},
   "source": [
    "# Task 1"
   ]
  },
  {
   "cell_type": "code",
   "execution_count": 115,
   "metadata": {},
   "outputs": [
    {
     "data": {
      "image/png": "[encoded data removed]",
      "text/plain": [
       "<matplotlib.figure.Figure at 0x7fe885653850>"
      ]
     },
     "metadata": {},
     "output_type": "display_data"
    }
   ],
   "source": [
    "import tensorflow as tf\n",
    "import numpy as np\n",
    "import matplotlib.pyplot as plt\n",
    "\n",
    "tf.reset_default_graph()\n",
    "\n",
    "\n",
    "slope = tf.constant(-6.7)\n",
    "y_int = tf.constant(2.0)\n",
    "\n",
    "x_hat_vec = tf.placeholder(tf.float32, None)\n",
    "noise_vec = tf.placeholder(tf.float32, None)\n",
    "\n",
    "\n",
    "with tf.name_scope(\"first_layer\") as scope:\n",
    "    x_hat_times_slope = x_hat_vec * slope\n",
    "    triple_sum = x_hat_times_slope + y_int + noise_vec\n",
    "    \n",
    "    \n",
    "\n",
    "x_hat_vec_in = np.random.uniform(-10, 10, 100)\n",
    "noise_vec_in = np.random.uniform(-1, 1, 100)\n",
    "\n",
    "\n",
    " \n",
    "init = tf.global_variables_initializer() \n",
    "sess = tf.Session()\n",
    "sess.run( init )\n",
    "writer = tf.summary.FileWriter(\"Task1\", sess.graph)\n",
    "\n",
    "\n",
    "tf.summary.scalar('triple_sum', triple_sum)\n",
    "\n",
    "result_vec = sess.run([triple_sum], feed_dict={x_hat_vec: x_hat_vec_in, noise_vec: noise_vec_in})\n",
    "writer.close()\n",
    "\n",
    "plt.scatter(x_hat_vec_in, result_vec)\n",
    "txt = '''Noisy Line (Task 1)'''\n",
    "plt.title(txt)\n",
    "plt.xlabel(\"x_hat\")\n",
    "plt.ylabel(\"f(x_hat)\")\n",
    "plt.show()"
   ]
  },
  {
   "cell_type": "markdown",
   "metadata": {},
   "source": [
    "# Task 2"
   ]
  },
  {
   "cell_type": "code",
   "execution_count": 116,
   "metadata": {},
   "outputs": [
    {
     "name": "stdout",
     "output_type": "stream",
     "text": [
      "I guess the line is: y = -6.66085672379*x + 1.98169970512\n"
     ]
    }
   ],
   "source": [
    "import tensorflow as tf\n",
    "import numpy as np\n",
    "import matplotlib.pyplot as plt\n",
    "\n",
    "tf.reset_default_graph()\n",
    "\n",
    "\n",
    "slope = tf.constant(-6.7)\n",
    "y_int = tf.constant(2.0)\n",
    "\n",
    "x_hat = tf.placeholder(tf.float32, None)\n",
    "noise_hat = tf.placeholder(tf.float32, None)\n",
    "y_hat = tf.placeholder(tf.float32, None)\n",
    "\n",
    "\n",
    "with tf.name_scope(\"noisy_line\") as scope:\n",
    "    x_hat_times_slope = x_hat * slope\n",
    "    triple_sum = x_hat_times_slope + y_int + noise_hat\n",
    "\n",
    "\n",
    "\n",
    "with tf.name_scope(\"regression\") as scope:\n",
    "    learning_rate = tf.constant(0.005)\n",
    "    m = tf.get_variable(\"m\", None, dtype=tf.float32, initializer=0.1)\n",
    "    b = tf.get_variable(\"b\", None, dtype=tf.float32, initializer=0.1)\n",
    "\n",
    "    net = m * x_hat + b\n",
    "    delta = learning_rate * (y_hat - net)\n",
    "    m_hat = m + (delta * x_hat)\n",
    "    b_hat = b + (delta * 1.0)\n",
    "    m = tf.assign(m, m_hat)\n",
    "    b = tf.assign(b, b_hat)\n",
    "\n",
    "\n",
    "init = tf.global_variables_initializer() \n",
    "sess = tf.Session()\n",
    "sess.run( init )\n",
    "writer = tf.summary.FileWriter(\"Task2\", sess.graph)\n",
    "\n",
    "\n",
    "for i in range(1000):\n",
    "    x_hat_in = np.random.uniform(-10, 10)\n",
    "    noise_hat_in = np.random.uniform(-1, 1)\n",
    "    y_hat_in = sess.run([triple_sum], feed_dict={x_hat: x_hat_in, noise_hat: noise_hat_in})[0]\n",
    "    slope, y_int = sess.run([m, b], feed_dict={x_hat: x_hat_in, y_hat: y_hat_in})\n",
    "\n",
    "print(\"I guess the line is: y = {}*x + {}\".format(slope, y_int))\n",
    "writer.close()\n"
   ]
  },
  {
   "cell_type": "markdown",
   "metadata": {},
   "source": [
    "# Task 3"
   ]
  },
  {
   "cell_type": "code",
   "execution_count": 119,
   "metadata": {
    "scrolled": true
   },
   "outputs": [
    {
     "name": "stdout",
     "output_type": "stream",
     "text": [
      "I guess beta is: [-2.31597304  4.45023727  9.31248283]\n"
     ]
    }
   ],
   "source": [
    "import tensorflow as tf\n",
    "import numpy as np\n",
    "import matplotlib.pyplot as plt\n",
    "\n",
    "tf.reset_default_graph()\n",
    "\n",
    "x_hat = tf.placeholder(tf.float32, None)\n",
    "noise = tf.placeholder(tf.float32, None)\n",
    "y_hat = tf.placeholder(tf.float32, None)\n",
    "\n",
    "\n",
    "with tf.name_scope(\"noisy_line\") as scope:\n",
    "    beta_actual = tf.constant([-2.3, 4.5, 9.4])\n",
    "    # Compute the dot product to get a scalar value\n",
    "    dot_product = tf.reduce_sum(tf.multiply(x_hat, beta_actual))\n",
    "    y_hat = dot_product + noise\n",
    "\n",
    "\n",
    "\n",
    "with tf.name_scope(\"regression\") as scope:\n",
    "    learning_rate = tf.constant(0.005)\n",
    "    beta = tf.get_variable(\"beta\", None, dtype=tf.float32, initializer=tf.zeros([3], tf.float32))\n",
    "    net = tf.reduce_sum(tf.multiply(x_hat, beta))\n",
    "    delta = learning_rate * (y_hat - net) * x_hat\n",
    "    beta = tf.assign(beta, beta + delta)\n",
    "\n",
    "\n",
    "init = tf.global_variables_initializer() \n",
    "sess = tf.Session()\n",
    "sess.run( init )\n",
    "writer = tf.summary.FileWriter(\"Task3\", sess.graph)\n",
    "\n",
    "for i in range(1000):\n",
    "    x_hat_in = np.random.uniform(-10, 10, size=(2,))\n",
    "    x_hat_in = np.append(x_hat_in, [1])\n",
    "    noise_in = np.random.uniform(-1, 1)\n",
    "    y_hat_in = sess.run([y_hat], feed_dict={x_hat: x_hat_in, noise: noise_in})[0]\n",
    "    beta_new = sess.run([beta], feed_dict={x_hat: x_hat_in, y_hat: y_hat_in})\n",
    "\n",
    "print(\"I guess beta is: {}\".format(beta_new[0],))\n",
    "writer.close()"
   ]
  },
  {
   "cell_type": "markdown",
   "metadata": {},
   "source": [
    "# Task 4"
   ]
  },
  {
   "cell_type": "code",
   "execution_count": 118,
   "metadata": {},
   "outputs": [
    {
     "name": "stdout",
     "output_type": "stream",
     "text": [
      "I guess beta is: [-7.79050541  2.69579983  0.83829123]\n"
     ]
    }
   ],
   "source": [
    "import pandas\n",
    "import tensorflow as tf\n",
    "import numpy as np\n",
    "import matplotlib.pyplot as plt\n",
    "\n",
    "tf.reset_default_graph()\n",
    "\n",
    "x_hat = tf.placeholder(tf.float32, None)\n",
    "noise = tf.placeholder(tf.float32, None)\n",
    "y_hat = tf.placeholder(tf.float32, None)\n",
    "\n",
    "\n",
    "with tf.name_scope(\"regression\") as scope:\n",
    "    learning_rate = tf.constant(0.005)\n",
    "    beta = tf.get_variable(\"beta\", None, dtype=tf.float32, initializer=tf.zeros([3], tf.float32))\n",
    "    net = tf.reduce_sum(tf.multiply(x_hat, beta))\n",
    "    delta = learning_rate * (y_hat - net) * x_hat\n",
    "    beta = tf.assign(beta, beta + delta)\n",
    "\n",
    "\n",
    "init = tf.global_variables_initializer() \n",
    "sess = tf.Session()\n",
    "sess.run( init )\n",
    "writer = tf.summary.FileWriter(\"Task4\", sess.graph)\n",
    "\n",
    "\n",
    "data = pandas.read_csv( 'foo.csv' )\n",
    "m = data.as_matrix()\n",
    "for row in m:\n",
    "    x_hat_in = row[0:2]\n",
    "    x_hat_in = np.append(x_hat_in, [1])\n",
    "    y_hat_in = row[2]\n",
    "    beta_new = sess.run([beta], feed_dict={x_hat: x_hat_in, y_hat: y_hat_in})\n",
    "    \n",
    "print(\"I guess beta is: {}\".format(beta_new[0],))\n",
    "writer.close()"
   ]
  },
  {
   "cell_type": "markdown",
   "metadata": {},
   "source": [
    "# Task 5"
   ]
  },
  {
   "cell_type": "code",
   "execution_count": null,
   "metadata": {
    "collapsed": true
   },
   "outputs": [],
   "source": [
    "# Todo"
   ]
  }
 ],
 "metadata": {
  "kernelspec": {
   "display_name": "Python 2",
   "language": "python",
   "name": "python2"
  },
  "language_info": {
   "codemirror_mode": {
    "name": "ipython",
    "version": 2
   },
   "file_extension": ".py",
   "mimetype": "text/x-python",
   "name": "python",
   "nbconvert_exporter": "python",
   "pygments_lexer": "ipython2",
   "version": "2.7.13"
  }
 },
 "nbformat": 4,
 "nbformat_minor": 2
}
